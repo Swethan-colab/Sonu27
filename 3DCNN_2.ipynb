{
  "cells": [
    {
      "cell_type": "markdown",
      "metadata": {
        "id": "view-in-github",
        "colab_type": "text"
      },
      "source": [
        "<a href=\"https://colab.research.google.com/github/Swethan-colab/Sonu27/blob/main/3DCNN_2.ipynb\" target=\"_parent\"><img src=\"https://colab.research.google.com/assets/colab-badge.svg\" alt=\"Open In Colab\"/></a>"
      ]
    },
    {
      "cell_type": "code",
      "execution_count": 66,
      "metadata": {
        "id": "LUH1vRQHYcq1"
      },
      "outputs": [],
      "source": [
        "import torch\n",
        "from torch import nn\n",
        "from torch.utils.data import DataLoader, TensorDataset\n",
        "from torchvision import transforms\n",
        "import numpy as np\n",
        "import copy\n"
      ]
    },
    {
      "cell_type": "code",
      "execution_count": 67,
      "metadata": {
        "colab": {
          "base_uri": "https://localhost:8080/"
        },
        "id": "W-ZTBJWTZBGV",
        "outputId": "4e01358d-06e7-43c7-9477-dacc56922a7f"
      },
      "outputs": [
        {
          "output_type": "stream",
          "name": "stdout",
          "text": [
            "(1000, 1, 51, 51, 51) (1000, 6)\n"
          ]
        }
      ],
      "source": [
        "# Replace 'path/to/my/file.h5' with the actual path to your .h5 file in your Drive\n",
        "data_path = '/content/drive/MyDrive/data1000_51voxels.h5'\n",
        "import h5py\n",
        "\n",
        "with h5py.File(data_path, 'r') as f:  # Open the file in read-only mode\n",
        "    # Assuming your RVE data is stored in a dataset named 'rve_data' within the file\n",
        "    QoIPCAH = f['QoIPCAH'][:]  # Load the data as a NumPy array\n",
        "    X = f['X'][:]\n",
        "\n",
        "# Check the data shape to ensure it's 3D (channels, width, height, depth)\n",
        "print(X.shape,QoIPCAH.shape\n",
        " )"
      ]
    },
    {
      "cell_type": "code",
      "source": [
        "from sklearn.model_selection import train_test_split\n",
        "\n",
        "# Splitting into training and testing sets (excluding validation for now)\n",
        "X_train_val, X_test_, y_train_val, y_test_ = train_test_split(X, QoIPCAH, test_size=0.1, random_state=42)\n",
        "\n",
        "# Further split training and validation sets (from X_train_val and y_train_val)\n",
        "X_train_, X_val_, y_train_, y_val_ = train_test_split(X_train_val, y_train_val, test_size=0.16, random_state=42)\n",
        "\n",
        "X_train = torch.from_numpy(X_train_).float()  # Train data\n",
        "X_val = torch.from_numpy(X_val_).float()  # Validation data\n",
        "X_test = torch.from_numpy(X_test_).float()  # Test data\n",
        "\n",
        "print(f\"\")\n",
        "\n",
        "y_train = torch.from_numpy(y_train_).float()  # Train labels\n",
        "y_val = torch.from_numpy(y_val_).float()  # Validation labels\n",
        "y_test = torch.from_numpy(y_test_).float()  # Test labels"
      ],
      "metadata": {
        "colab": {
          "base_uri": "https://localhost:8080/"
        },
        "id": "EFWt9a0jLTVy",
        "outputId": "e0f90534-a6cf-4c9f-b4e6-5fe97b784ad2"
      },
      "execution_count": 69,
      "outputs": [
        {
          "output_type": "stream",
          "name": "stdout",
          "text": [
            "\n"
          ]
        }
      ]
    },
    {
      "cell_type": "code",
      "execution_count": 70,
      "metadata": {
        "id": "UEdArz4Y4IW7"
      },
      "outputs": [],
      "source": [
        "epochs = 30\n",
        "batch_size = 32\n",
        "patience = 5  # Early stopping patience\n",
        "learning_rate = 0.001"
      ]
    },
    {
      "cell_type": "code",
      "execution_count": 71,
      "metadata": {
        "colab": {
          "base_uri": "https://localhost:8080/"
        },
        "id": "mkcdAlCzaKjf",
        "outputId": "3b2cac88-ab14-4882-9f95-b623ca794b10"
      },
      "outputs": [
        {
          "output_type": "stream",
          "name": "stdout",
          "text": [
            "torch.Size([1, 51, 51, 51])\n",
            "tensor([201.2158, 123.2615,  46.5704,  50.1400,   0.2041,   0.3234])\n"
          ]
        }
      ],
      "source": [
        "# Normalize the image data (optional)\n",
        "transform = transforms.Normalize(mean=[0.5], std=[0.5])\n",
        "\n",
        "# Create datasets\n",
        "train_dataset = TensorDataset(transform(X_train), y_train)\n",
        "val_dataset = TensorDataset(transform(X_val), y_val)\n",
        "test_dataset = TensorDataset(transform(X_test), y_test)\n",
        "batch_size=32\n",
        "data_sample, target = test_dataset[17]  # Access first element\n",
        "\n",
        "print(data_sample.shape)  # Check the shape of the data sample (e.g., torch.Size([1, 3, 32, 32, 32]))\n",
        "print(target)\n",
        "\n",
        "# Create dataloaders for efficient batch training\n",
        "train_dataloader = DataLoader(train_dataset, batch_size=batch_size, shuffle=True)\n",
        "val_dataloader = DataLoader(val_dataset, batch_size=batch_size, shuffle=False)\n",
        "test_dataloader = DataLoader(test_dataset, batch_size=batch_size, shuffle=False)\n"
      ]
    },
    {
      "cell_type": "code",
      "execution_count": 72,
      "metadata": {
        "id": "1WUAgnI4aghb"
      },
      "outputs": [],
      "source": [
        "\n",
        "\n",
        "\n",
        "class My3DCNN(nn.Module):\n",
        "  def __init__(self, input_shape, output_size):\n",
        "    super(My3DCNN, self).__init__()\n",
        "    self.conv1 = nn.Conv3d(in_channels=1, out_channels=16, kernel_size=5, padding=2)\n",
        "    self.bn1 = nn.BatchNorm3d(16)  # BatchNorm after conv1\n",
        "    self.relu1 = nn.ReLU()\n",
        "    self.pool1 = nn.MaxPool3d(kernel_size=2, stride=2)\n",
        "\n",
        "    self.conv2 = nn.Conv3d(in_channels=16, out_channels=16, kernel_size=5, padding=2)\n",
        "    self.bn2 = nn.BatchNorm3d(16)  # BatchNorm after conv2\n",
        "    self.relu2 = nn.ReLU()\n",
        "    self.pool2 = nn.MaxPool3d(kernel_size=2, stride=2)\n",
        "\n",
        "    self.conv3 = nn.Conv3d(in_channels=16, out_channels=32, kernel_size=5, padding=2)\n",
        "    self.bn3 = nn.BatchNorm3d(32)  # BatchNorm after conv3\n",
        "    self.relu3 = nn.ReLU()\n",
        "    self.pool3 = nn.MaxPool3d(kernel_size=2, stride=2)\n",
        "\n",
        "    self.flatten = nn.Flatten()\n",
        "    self.fc1 = nn.Linear(in_features=6912, out_features=128)\n",
        "    self.relu4 = nn.ReLU()\n",
        "    self.fc2 = nn.Linear(in_features=128, out_features=64)\n",
        "    self.relu5 = nn.ReLU()\n",
        "    self.fc3 = nn.Linear(in_features=64, out_features=output_size)\n",
        "    for name, param in self.named_modules():\n",
        "      if isinstance(param, nn.Conv3d):\n",
        "        nn.init.kaiming_normal_(param.weight)\n",
        "\n",
        "  def forward(self, x):\n",
        "    x = self.bn1(self.relu1(self.conv1(x)))  # Apply BatchNorm after ReLU\n",
        "    x = self.pool1(x)\n",
        "\n",
        "    x = self.bn2(self.relu2(self.conv2(x)))  # Apply BatchNorm after ReLU\n",
        "    x = self.pool2(x)\n",
        "\n",
        "    x = self.bn3(self.relu3(self.conv3(x)))  # Apply BatchNorm after ReLU\n",
        "    x = self.pool3(x)\n",
        "\n",
        "    x = self.flatten(x)\n",
        "    x = self.relu4(self.fc1(x))\n",
        "    x = self.relu5(self.fc2(x))\n",
        "    x = self.fc3(x)\n",
        "    return x\n"
      ]
    },
    {
      "cell_type": "code",
      "execution_count": 73,
      "metadata": {
        "id": "k9f37Tm03ph8"
      },
      "outputs": [],
      "source": [
        "import matplotlib.pyplot as plt\n",
        "\n",
        "def evaluate(model, val_dataloader, criterion):\n",
        "    model.eval()  # Set model to evaluation mode (optional for some layers)\n",
        "    with torch.no_grad():\n",
        "        total_val_loss = 0\n",
        "        for data, target in val_dataloader:\n",
        "            output = model(data)\n",
        "            val_loss = criterion(output, target)\n",
        "            total_val_loss += val_loss.item()\n",
        "    return total_val_loss / len(val_dataloader)\n",
        "\n",
        "def train_model(model, train_loader, val_loader, epochs, patience):\n",
        "    optimizer = torch.optim.Adam(model.parameters(), lr=learning_rate)  # Adjust optimizer\n",
        "    criterion = nn.MSELoss()  # Mean Squared Error loss\n",
        "\n",
        "    training_losses = []  # Store training losses for each epoch\n",
        "    validation_losses = []  # Store validation losses for each epoch\n",
        "\n",
        "    best_val_loss = float('inf')\n",
        "    for epoch in range(epochs):\n",
        "        # Train loop\n",
        "        total_train_loss = 0\n",
        "        for data, target in train_loader:\n",
        "            optimizer.zero_grad()  # Reset gradients for each batch\n",
        "\n",
        "            output = model(data)\n",
        "            loss = criterion(output, target) + get_regularization_loss(model)\n",
        "            loss.backward()\n",
        "            optimizer.step()\n",
        "\n",
        "            total_train_loss += loss.item()\n",
        "\n",
        "        # Calculate and print average training loss for the epoch\n",
        "        avg_train_loss = total_train_loss / len(train_loader)\n",
        "        training_losses.append(avg_train_loss)\n",
        "        print(f\"Epoch {epoch+1}/{epochs}, Train Loss: {avg_train_loss:.4f}\")\n",
        "\n",
        "        # Validation\n",
        "        val_loss = evaluate(model, val_dataloader, criterion)\n",
        "        validation_losses.append(val_loss)\n",
        "        print(f\"Val Loss: {val_loss:.4f}\")\n",
        "\n",
        "        # Early stopping (implementation not shown here for brevity)\n",
        "\n",
        "    # Plot training and validation loss (after training)\n",
        "    plt.plot(range(epochs), training_losses, label='Training Loss')\n",
        "    plt.plot(range(epochs), validation_losses, label='Validation Loss')\n",
        "    plt.title('Training and Validation Loss')\n",
        "    plt.xlabel('Epochs')\n",
        "    plt.ylabel('Loss')\n",
        "    plt.legend()\n",
        "    plt.grid(True)\n",
        "    plt.show()\n",
        "\n",
        "    # Load best model weights (implementation not shown here for brevity)\n",
        "    return model\n"
      ]
    },
    {
      "cell_type": "code",
      "execution_count": 74,
      "metadata": {
        "id": "t_vKziRASNK1"
      },
      "outputs": [],
      "source": [
        "l1_lambda = 0.001  # Adjust this hyperparameter for L1 regularization\n",
        "l2_lambda = 0.005  # Adjust this hyperparameter for L2 regularization\n",
        "\n",
        "def get_regularization_loss(model):\n",
        "  # Iterate through all model parameters and sum their L1 or L2 norm\n",
        "  regularization_loss = 0\n",
        "  for param in model.parameters():\n",
        "    if param.requires_grad:  # Only consider parameters with gradients\n",
        "      regularization_loss += l1_lambda * torch.abs(param).sum()  # L1 regularization\n",
        "      # OR\n",
        "      regularization_loss += l2_lambda * torch.sum(torch.square(param))  # L2 regularization\n",
        "  return regularization_loss"
      ]
    },
    {
      "cell_type": "code",
      "execution_count": 75,
      "metadata": {
        "id": "rbFrxg6Zasjx"
      },
      "outputs": [],
      "source": [
        "input_shape = X.shape[1:]\n",
        "output_shape = QoIPCAH.shape[1]\n",
        "model = My3DCNN(input_shape,output_shape)\n",
        "#clip_value = 0.005  # Experiment with different clip values\n",
        "#torch.nn.utils.clip_grad_norm_(model.parameters(), clip_value)\n",
        "criterion = nn.MSELoss()  # Mean Squared Error loss for regression\n",
        "optimizer = torch.optim.SGD(model.parameters(), lr=0.0001)  # Stochastic Gradient Descent optimizer\n"
      ]
    },
    {
      "cell_type": "code",
      "execution_count": 76,
      "metadata": {
        "colab": {
          "base_uri": "https://localhost:8080/",
          "height": 1000
        },
        "id": "5CwTfaVGeqsk",
        "outputId": "cb74ec79-b963-44df-c162-82a5d08fc907"
      },
      "outputs": [
        {
          "output_type": "stream",
          "name": "stdout",
          "text": [
            "Epoch 1/30, Train Loss: 3636.8944\n",
            "Val Loss: 150.4074\n",
            "Epoch 2/30, Train Loss: 348.9425\n",
            "Val Loss: 59.6892\n",
            "Epoch 3/30, Train Loss: 37.6802\n",
            "Val Loss: 4.5176\n",
            "Epoch 4/30, Train Loss: 18.1277\n",
            "Val Loss: 5.1961\n",
            "Epoch 5/30, Train Loss: 14.5097\n",
            "Val Loss: 0.9916\n",
            "Epoch 6/30, Train Loss: 12.7640\n",
            "Val Loss: 0.7454\n",
            "Epoch 7/30, Train Loss: 12.3055\n",
            "Val Loss: 0.7034\n",
            "Epoch 8/30, Train Loss: 11.9585\n",
            "Val Loss: 0.3610\n",
            "Epoch 9/30, Train Loss: 11.5417\n",
            "Val Loss: 0.2788\n",
            "Epoch 10/30, Train Loss: 11.2915\n",
            "Val Loss: 0.3026\n",
            "Epoch 11/30, Train Loss: 11.1302\n",
            "Val Loss: 0.2243\n",
            "Epoch 12/30, Train Loss: 10.9026\n",
            "Val Loss: 0.2234\n",
            "Epoch 13/30, Train Loss: 10.7119\n",
            "Val Loss: 0.1870\n",
            "Epoch 14/30, Train Loss: 10.5112\n",
            "Val Loss: 0.2295\n",
            "Epoch 15/30, Train Loss: 10.5091\n",
            "Val Loss: 0.4670\n",
            "Epoch 16/30, Train Loss: 10.4248\n",
            "Val Loss: 0.2517\n",
            "Epoch 17/30, Train Loss: 10.1211\n",
            "Val Loss: 0.2069\n",
            "Epoch 18/30, Train Loss: 10.0211\n",
            "Val Loss: 0.2384\n",
            "Epoch 19/30, Train Loss: 9.9148\n",
            "Val Loss: 0.1650\n",
            "Epoch 20/30, Train Loss: 9.7629\n",
            "Val Loss: 0.1569\n",
            "Epoch 21/30, Train Loss: 9.8130\n",
            "Val Loss: 0.2444\n",
            "Epoch 22/30, Train Loss: 9.6205\n",
            "Val Loss: 0.6184\n",
            "Epoch 23/30, Train Loss: 9.5285\n",
            "Val Loss: 0.1535\n",
            "Epoch 24/30, Train Loss: 9.4484\n",
            "Val Loss: 0.4529\n",
            "Epoch 25/30, Train Loss: 9.4919\n",
            "Val Loss: 0.1497\n",
            "Epoch 26/30, Train Loss: 9.1508\n",
            "Val Loss: 0.1584\n",
            "Epoch 27/30, Train Loss: 9.0355\n",
            "Val Loss: 0.1465\n",
            "Epoch 28/30, Train Loss: 8.9672\n",
            "Val Loss: 0.1296\n",
            "Epoch 29/30, Train Loss: 9.0786\n",
            "Val Loss: 0.5912\n",
            "Epoch 30/30, Train Loss: 9.0238\n",
            "Val Loss: 0.5047\n"
          ]
        },
        {
          "output_type": "display_data",
          "data": {
            "text/plain": [
              "<Figure size 640x480 with 1 Axes>"
            ],
            "image/png": "[encoded data removed]"
          },
          "metadata": {}
        },
        {
          "output_type": "execute_result",
          "data": {
            "text/plain": [
              "My3DCNN(\n",
              "  (conv1): Conv3d(1, 16, kernel_size=(5, 5, 5), stride=(1, 1, 1), padding=(2, 2, 2))\n",
              "  (bn1): BatchNorm3d(16, eps=1e-05, momentum=0.1, affine=True, track_running_stats=True)\n",
              "  (relu1): ReLU()\n",
              "  (pool1): MaxPool3d(kernel_size=2, stride=2, padding=0, dilation=1, ceil_mode=False)\n",
              "  (conv2): Conv3d(16, 16, kernel_size=(5, 5, 5), stride=(1, 1, 1), padding=(2, 2, 2))\n",
              "  (bn2): BatchNorm3d(16, eps=1e-05, momentum=0.1, affine=True, track_running_stats=True)\n",
              "  (relu2): ReLU()\n",
              "  (pool2): MaxPool3d(kernel_size=2, stride=2, padding=0, dilation=1, ceil_mode=False)\n",
              "  (conv3): Conv3d(16, 32, kernel_size=(5, 5, 5), stride=(1, 1, 1), padding=(2, 2, 2))\n",
              "  (bn3): BatchNorm3d(32, eps=1e-05, momentum=0.1, affine=True, track_running_stats=True)\n",
              "  (relu3): ReLU()\n",
              "  (pool3): MaxPool3d(kernel_size=2, stride=2, padding=0, dilation=1, ceil_mode=False)\n",
              "  (flatten): Flatten(start_dim=1, end_dim=-1)\n",
              "  (fc1): Linear(in_features=6912, out_features=128, bias=True)\n",
              "  (relu4): ReLU()\n",
              "  (fc2): Linear(in_features=128, out_features=64, bias=True)\n",
              "  (relu5): ReLU()\n",
              "  (fc3): Linear(in_features=64, out_features=6, bias=True)\n",
              ")"
            ]
          },
          "metadata": {},
          "execution_count": 76
        }
      ],
      "source": [
        "train_model(model,train_dataloader,val_dataloader,30,5)"
      ]
    },
    {
      "cell_type": "code",
      "source": [
        "test_loss = evaluate(model,test_dataloader,criterion)\n",
        "print(f\"Test Loss: {test_loss:.4f}\")"
      ],
      "metadata": {
        "colab": {
          "base_uri": "https://localhost:8080/"
        },
        "id": "7YxYHsMpRB5v",
        "outputId": "bd92da58-ac4c-42ef-e5c6-5c366106b5d1"
      },
      "execution_count": 61,
      "outputs": [
        {
          "output_type": "stream",
          "name": "stdout",
          "text": [
            "Test Loss: 0.0046\n"
          ]
        }
      ]
    }
  ],
  "metadata": {
    "colab": {
      "provenance": [],
      "gpuType": "A100",
      "mount_file_id": "1W7chkxnaOVhEZWDS3hqiJb-9MF7ePJVv",
      "authorship_tag": "ABX9TyMQfscI3+Ko7/V7Wf0zPEba",
      "include_colab_link": true
    },
    "kernelspec": {
      "display_name": "Python 3",
      "name": "python3"
    },
    "language_info": {
      "name": "python"
    },
    "accelerator": "GPU"
  },
  "nbformat": 4,
  "nbformat_minor": 0
}