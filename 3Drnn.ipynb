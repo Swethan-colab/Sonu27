{
  "nbformat": 4,
  "nbformat_minor": 0,
  "metadata": {
    "colab": {
      "provenance": [],
      "authorship_tag": "ABX9TyOOe36YHeFhptpfySGDYmdV",
      "include_colab_link": true
    },
    "kernelspec": {
      "name": "python3",
      "display_name": "Python 3"
    },
    "language_info": {
      "name": "python"
    }
  },
  "cells": [
    {
      "cell_type": "markdown",
      "metadata": {
        "id": "view-in-github",
        "colab_type": "text"
      },
      "source": [
        "<a href=\"https://colab.research.google.com/github/Swethan-colab/Sonu27/blob/main/3Drnn.ipynb\" target=\"_parent\"><img src=\"https://colab.research.google.com/assets/colab-badge.svg\" alt=\"Open In Colab\"/></a>"
      ]
    },
    {
      "cell_type": "code",
      "source": [
        "import numpy as np\n",
        "import pandas as pd\n",
        "\n",
        "path = \"/content/drive/MyDrive/NLH.xlsx\"\n",
        "# Read the Excel file\n",
        "df = pd.read_excel(path)\n",
        "\n",
        "# Display the DataFrame\n",
        "print(df)\n",
        "\n"
      ],
      "metadata": {
        "colab": {
          "base_uri": "https://localhost:8080/"
        },
        "id": "lVmE3JCsRCth",
        "outputId": "a05aef08-4852-44c5-b6c8-f9a589a0acb8"
      },
      "execution_count": 2,
      "outputs": [
        {
          "output_type": "stream",
          "name": "stdout",
          "text": [
            "     Unnamed: 0 Unnamed: 1  Unnamed: 2\n",
            "0           NaN       epsn    sigmaiso\n",
            "1           NaN    0.00005    2.592593\n",
            "2           NaN    0.00055   28.518519\n",
            "3           NaN    0.00105   54.444444\n",
            "4           NaN    0.00155   62.387902\n",
            "..          ...        ...         ...\n",
            "356         NaN    0.01755  168.331045\n",
            "357         NaN    0.01805  168.789461\n",
            "358         NaN    0.01855  169.247876\n",
            "359         NaN    0.01905  169.706291\n",
            "360         NaN    0.01955  170.164706\n",
            "\n",
            "[361 rows x 3 columns]\n"
          ]
        }
      ]
    },
    {
      "cell_type": "code",
      "source": [
        "column_names = ['index', 'epsn', 'sigmaiso']  # Replace with your desired names\n",
        "df.columns = column_names\n",
        "\n",
        "\n",
        "# Assuming the column with NaN values is named 'Unnamed: 0'\n",
        "df_ = df[['epsn', 'sigmaiso']]\n",
        "df__ = df_.iloc[1:]\n",
        "print(df__)"
      ],
      "metadata": {
        "id": "Pe81NZQjiEKN",
        "colab": {
          "base_uri": "https://localhost:8080/"
        },
        "outputId": "7754a75b-3cd4-477f-c7e3-295433026d2f"
      },
      "execution_count": 18,
      "outputs": [
        {
          "output_type": "stream",
          "name": "stdout",
          "text": [
            "        epsn    sigmaiso\n",
            "1    0.00005    2.592593\n",
            "2    0.00055   28.518519\n",
            "3    0.00105   54.444444\n",
            "4    0.00155   62.387902\n",
            "5    0.00205   64.874616\n",
            "..       ...         ...\n",
            "356  0.01755  168.331045\n",
            "357  0.01805  168.789461\n",
            "358  0.01855  169.247876\n",
            "359  0.01905  169.706291\n",
            "360  0.01955  170.164706\n",
            "\n",
            "[360 rows x 2 columns]\n"
          ]
        }
      ]
    },
    {
      "cell_type": "code",
      "source": [
        "\n",
        "import torch\n",
        "\n",
        "# Assuming 'df__' is your DataFrame\n",
        "# Check for missing values\n",
        "if df__['sigmaiso'].isnull().any():\n",
        "    print(\"Warning: 'sigmaiso' column contains missing values (NaNs).\")\n",
        "    # Choose a solution: remove rows, impute missing values, etc.\n",
        "    df__ = df__.dropna(subset=['sigmaiso'])  # Example: Remove rows with NaNs in 'sigmaiso'\n",
        "\n",
        "# Check data types and convert to numeric if needed\n",
        "if not pd.api.types.is_numeric_dtype(df__['sigmaiso']):\n",
        "    print(\"Warning: 'sigmaiso' column may contain non-numerical data types.\")\n",
        "    # Use .loc to safely modify the column\n",
        "    df__.loc[:, 'sigmaiso'] = pd.to_numeric(df__['sigmaiso'], errors='coerce')\n",
        "\n",
        "# Assuming data is now clean\n",
        "y = torch.from_numpy(df__['sigmaiso'].values.astype(np.float32)).unsqueeze(1)  # Convert to float32 for PyTorch\n"
      ],
      "metadata": {
        "id": "nYyx2n24prNU"
      },
      "execution_count": 36,
      "outputs": []
    },
    {
      "cell_type": "code",
      "source": [
        "import matplotlib.pyplot as plt\n",
        "#Datacorrection in espn values\n",
        "\n",
        "if df__['epsn'].isnull().any():\n",
        "    print(\"Warning: 'sigmaiso' column contains missing values (NaNs).\")\n",
        "    # Choose a solution: remove rows, impute missing values, etc.\n",
        "    df__ = df__.dropna(subset=['epsn'])  # Example: Remove rows with NaNs in 'sigmaiso'\n",
        "\n",
        "# Check data types and convert to numeric if needed\n",
        "if not pd.api.types.is_numeric_dtype(df__['epsn']):\n",
        "    print(\"Warning: 'epsn' column may contain non-numerical data types.\")\n",
        "    # Use .loc to safely modify the column\n",
        "    df__.loc[:, 'epsn'] = pd.to_numeric(df__['epsn'], errors='coerce')\n",
        "\n",
        "# Assuming data is now clean\n",
        "x = torch.from_numpy(df__['epsn'].values.astype(np.float32)).unsqueeze(1)  # Convert to float32 for PyTorch\n",
        "\n",
        "plt.figure(figsize=(10, 6))  # Set plot figure size\n",
        "\n",
        "plt.scatter(x, y)  # Scatter plot for epsn vs sigmaiso\n",
        "plt.xlabel('epsn')  # Label for x-axis\n",
        "plt.ylabel('sigmaiso')  # Label for y-axis\n",
        "plt.title('Stress vs Strain')  # Plot title\n",
        "\n",
        "# Optional: Add gridlines for better readability\n",
        "plt.grid(True)\n",
        "\n",
        "# Show the plot\n",
        "plt.show()\n"
      ],
      "metadata": {
        "colab": {
          "base_uri": "https://localhost:8080/",
          "height": 581
        },
        "id": "9vZ51VTbmANk",
        "outputId": "7ab27c0b-ec64-41dd-b35d-73f0ce073ab3"
      },
      "execution_count": 86,
      "outputs": [
        {
          "output_type": "stream",
          "name": "stdout",
          "text": [
            "Warning: 'epsn' column may contain non-numerical data types.\n"
          ]
        },
        {
          "output_type": "display_data",
          "data": {
            "text/plain": [
              "<Figure size 1000x600 with 1 Axes>"
            ],
            "image/png": "[encoded data removed]"
          },
          "metadata": {}
        }
      ]
    },
    {
      "cell_type": "code",
      "source": [
        "\n",
        "def normalize(data):\n",
        "  \"\"\"\n",
        "  Normalizes data to a range of [0, 1].\n",
        "\n",
        "  Args:\n",
        "      data (torch.Tensor): The data to be normalized.\n",
        "\n",
        "  Returns:\n",
        "      torch.Tensor: The normalized data.\n",
        "  \"\"\"\n",
        "  min_val = torch.min(data)\n",
        "  max_val = torch.max(data)\n",
        "  return (data - min_val) / (max_val - min_val)\n",
        "def z_score(data):\n",
        "  return (data - data.mean()) / data.std()"
      ],
      "metadata": {
        "id": "Zx9s_sonwpFF"
      },
      "execution_count": 57,
      "outputs": []
    },
    {
      "cell_type": "code",
      "source": [
        "from sklearn.model_selection import train_test_split\n",
        "X_train_val, X_test_, y_train_val, y_test_ = train_test_split(x, y, test_size=0.1, random_state=42)\n",
        "\n",
        "# Further split training and validation sets (from X_train_val and y_train_val)\n",
        "X_train_, X_val_, y_train_, y_val_ = train_test_split(X_train_val, y_train_val, test_size=0.16, random_state=42)\n",
        "\n",
        "X_train = normalize(X_train_)\n",
        "X_val = normalize(X_val_)\n",
        "X_test = normalize(X_test_)\n",
        "\n",
        "y_train = normalize(y_train_)\n",
        "y_val = normalize(y_val_)\n",
        "y_test = normalize(y_test_)\n"
      ],
      "metadata": {
        "id": "hB43GMQswEF8"
      },
      "execution_count": 81,
      "outputs": []
    },
    {
      "cell_type": "code",
      "source": [
        "import torch\n",
        "from torch.utils.data import TensorDataset, DataLoader\n",
        "\n",
        "# Assuming 'x' and 'y' are your PyTorch tensors\n",
        "train_dataset = TensorDataset((X_train), (y_train))\n",
        "val_dataset = TensorDataset((X_val), (y_val))\n",
        "test_dataset = TensorDataset((X_test), (y_test))\n",
        "batch_size=32\n",
        "# Create data loaders for each set\n",
        "train_dataloader = DataLoader(train_dataset, batch_size=batch_size, shuffle=True)\n",
        "val_dataloader = DataLoader(val_dataset, batch_size=batch_size, shuffle=False)\n",
        "test_dataloader = DataLoader(test_dataset, batch_size=batch_size, shuffle=False)\n",
        "\n"
      ],
      "metadata": {
        "id": "HS4kvLRbrrsw"
      },
      "execution_count": 75,
      "outputs": []
    },
    {
      "cell_type": "code",
      "source": [
        "epochs = 100\n",
        "batch_size = 32\n",
        "patience = 5  # Early stopping patience\n",
        "learning_rate = 0.001"
      ],
      "metadata": {
        "id": "Nsdi47sHxas5"
      },
      "execution_count": 76,
      "outputs": []
    },
    {
      "cell_type": "code",
      "source": [
        "import torch.nn as nn\n",
        "\n",
        "class MyModel(nn.Module):\n",
        "  def __init__(self):\n",
        "    super(MyModel, self).__init__()\n",
        "    self.gru1 = nn.GRU(input_size=1, hidden_size=32)\n",
        "    self.gru2 = nn.GRU(input_size=32, hidden_size=16)\n",
        "    self.linear = nn.Linear(16, 1)\n",
        "\n",
        "  def forward(self, x):\n",
        "    x = self.gru1(x)[0]  # Access hidden state from GRU1\n",
        "    x = self.gru2(x)[0]  # Access hidden state from GRU2\n",
        "    x = self.linear(x)\n",
        "    return x\n",
        "\n",
        "# Create the model\n",
        "model = MyModel()\n",
        "\n",
        "\n",
        "\n",
        "# Function to calculate loss for a given data loader\n",
        "def calculate_loss(data_loader, model, loss_fn):\n",
        "  total_loss = 0\n",
        "  for data, target in data_loader:\n",
        "    predicted_stress = model(data)\n",
        "    loss = loss_fn(predicted_stress, target)\n",
        "    total_loss += loss.item()\n",
        "  return total_loss / len(data_loader)"
      ],
      "metadata": {
        "id": "0WsJ_tLYscXV"
      },
      "execution_count": 77,
      "outputs": []
    },
    {
      "cell_type": "code",
      "source": [
        "\n",
        "\n",
        "def evaluate(model, val_dataloader, criterion):\n",
        "    model.eval()  # Set model to evaluation mode (optional for some layers)\n",
        "    with torch.no_grad():\n",
        "        total_val_loss = 0\n",
        "        for data, target in val_dataloader:\n",
        "            output = model(data)\n",
        "            val_loss = criterion(output, target)\n",
        "            total_val_loss += val_loss.item()\n",
        "    return total_val_loss / len(val_dataloader)\n",
        "\n",
        "def train_model(model, train_loader, val_loader, epochs, patience):\n",
        "    optimizer = torch.optim.Adam(model.parameters(), lr=learning_rate)  # Adjust optimizer\n",
        "    criterion = nn.MSELoss()  # Mean Squared Error loss\n",
        "\n",
        "    training_losses = []  # Store training losses for each epoch\n",
        "    validation_losses = []  # Store validation losses for each epoch\n",
        "\n",
        "    best_val_loss = float('inf')\n",
        "    for epoch in range(epochs):\n",
        "        # Train loop\n",
        "        total_train_loss = 0\n",
        "        for data, target in train_loader:\n",
        "            optimizer.zero_grad()  # Reset gradients for each batch\n",
        "\n",
        "            output = model(data)\n",
        "            loss = criterion(output, target)\n",
        "            loss.backward()\n",
        "            optimizer.step()\n",
        "\n",
        "            total_train_loss += loss.item()\n",
        "\n",
        "        # Calculate and print average training loss for the epoch\n",
        "        avg_train_loss = total_train_loss / len(train_loader)\n",
        "        training_losses.append(avg_train_loss)\n",
        "        print(f\"Epoch {epoch+1}/{epochs}, Train Loss: {avg_train_loss:.4f}\")\n",
        "\n",
        "        # Validation\n",
        "        val_loss = evaluate(model, val_dataloader, criterion)\n",
        "        validation_losses.append(val_loss)\n",
        "        print(f\"Val Loss: {val_loss:.4f}\")\n",
        "\n",
        "        # Early stopping (implementation not shown here for brevity)\n",
        "\n",
        "    # Plot training and validation loss (after training)\n",
        "    plt.plot(range(epochs), training_losses, label='Training Loss')\n",
        "    plt.plot(range(epochs), validation_losses, label='Validation Loss')\n",
        "    plt.title('Training and Validation Loss')\n",
        "    plt.xlabel('Epochs')\n",
        "    plt.ylabel('Loss')\n",
        "    plt.legend()\n",
        "    plt.grid(True)\n",
        "    plt.show()\n",
        "\n",
        "    # Load best model weights (implementation not shown here for brevity)\n",
        "    return model\n",
        ""
      ],
      "metadata": {
        "id": "26jRMdNUskDk"
      },
      "execution_count": 78,
      "outputs": []
    },
    {
      "cell_type": "code",
      "source": [
        "train_model(model,train_dataloader,val_dataloader,epochs,patience)"
      ],
      "metadata": {
        "colab": {
          "base_uri": "https://localhost:8080/",
          "height": 1000
        },
        "id": "v_J_FXMzsrNH",
        "outputId": "96fa6fb8-ffd5-4e17-fb28-30196ed85e8f"
      },
      "execution_count": 80,
      "outputs": [
        {
          "output_type": "stream",
          "name": "stdout",
          "text": [
            "Epoch 1/100, Train Loss: 0.2834\n",
            "Val Loss: 0.2068\n",
            "Epoch 2/100, Train Loss: 0.1728\n",
            "Val Loss: 0.1420\n",
            "Epoch 3/100, Train Loss: 0.1411\n",
            "Val Loss: 0.1417\n",
            "Epoch 4/100, Train Loss: 0.1507\n",
            "Val Loss: 0.1376\n",
            "Epoch 5/100, Train Loss: 0.1391\n",
            "Val Loss: 0.1355\n",
            "Epoch 6/100, Train Loss: 0.1343\n",
            "Val Loss: 0.1345\n",
            "Epoch 7/100, Train Loss: 0.1354\n",
            "Val Loss: 0.1336\n",
            "Epoch 8/100, Train Loss: 0.1307\n",
            "Val Loss: 0.1327\n",
            "Epoch 9/100, Train Loss: 0.1376\n",
            "Val Loss: 0.1316\n",
            "Epoch 10/100, Train Loss: 0.1394\n",
            "Val Loss: 0.1306\n",
            "Epoch 11/100, Train Loss: 0.1333\n",
            "Val Loss: 0.1292\n",
            "Epoch 12/100, Train Loss: 0.1301\n",
            "Val Loss: 0.1282\n",
            "Epoch 13/100, Train Loss: 0.1329\n",
            "Val Loss: 0.1273\n",
            "Epoch 14/100, Train Loss: 0.1327\n",
            "Val Loss: 0.1261\n",
            "Epoch 15/100, Train Loss: 0.1288\n",
            "Val Loss: 0.1249\n",
            "Epoch 16/100, Train Loss: 0.1309\n",
            "Val Loss: 0.1238\n",
            "Epoch 17/100, Train Loss: 0.1292\n",
            "Val Loss: 0.1228\n",
            "Epoch 18/100, Train Loss: 0.1283\n",
            "Val Loss: 0.1217\n",
            "Epoch 19/100, Train Loss: 0.1258\n",
            "Val Loss: 0.1204\n",
            "Epoch 20/100, Train Loss: 0.1258\n",
            "Val Loss: 0.1192\n",
            "Epoch 21/100, Train Loss: 0.1272\n",
            "Val Loss: 0.1181\n",
            "Epoch 22/100, Train Loss: 0.1234\n",
            "Val Loss: 0.1173\n",
            "Epoch 23/100, Train Loss: 0.1258\n",
            "Val Loss: 0.1168\n",
            "Epoch 24/100, Train Loss: 0.1219\n",
            "Val Loss: 0.1162\n",
            "Epoch 25/100, Train Loss: 0.1240\n",
            "Val Loss: 0.1157\n",
            "Epoch 26/100, Train Loss: 0.1261\n",
            "Val Loss: 0.1153\n",
            "Epoch 27/100, Train Loss: 0.1215\n",
            "Val Loss: 0.1152\n",
            "Epoch 28/100, Train Loss: 0.1235\n",
            "Val Loss: 0.1147\n",
            "Epoch 29/100, Train Loss: 0.1217\n",
            "Val Loss: 0.1147\n",
            "Epoch 30/100, Train Loss: 0.1228\n",
            "Val Loss: 0.1145\n",
            "Epoch 31/100, Train Loss: 0.1223\n",
            "Val Loss: 0.1144\n",
            "Epoch 32/100, Train Loss: 0.1202\n",
            "Val Loss: 0.1140\n",
            "Epoch 33/100, Train Loss: 0.1189\n",
            "Val Loss: 0.1138\n",
            "Epoch 34/100, Train Loss: 0.1219\n",
            "Val Loss: 0.1138\n",
            "Epoch 35/100, Train Loss: 0.1199\n",
            "Val Loss: 0.1138\n",
            "Epoch 36/100, Train Loss: 0.1173\n",
            "Val Loss: 0.1139\n",
            "Epoch 37/100, Train Loss: 0.1190\n",
            "Val Loss: 0.1144\n",
            "Epoch 38/100, Train Loss: 0.1222\n",
            "Val Loss: 0.1138\n",
            "Epoch 39/100, Train Loss: 0.1212\n",
            "Val Loss: 0.1135\n",
            "Epoch 40/100, Train Loss: 0.1257\n",
            "Val Loss: 0.1136\n",
            "Epoch 41/100, Train Loss: 0.1227\n",
            "Val Loss: 0.1135\n",
            "Epoch 42/100, Train Loss: 0.1196\n",
            "Val Loss: 0.1123\n",
            "Epoch 43/100, Train Loss: 0.1214\n",
            "Val Loss: 0.1130\n",
            "Epoch 44/100, Train Loss: 0.1190\n",
            "Val Loss: 0.1120\n",
            "Epoch 45/100, Train Loss: 0.1235\n",
            "Val Loss: 0.1124\n",
            "Epoch 46/100, Train Loss: 0.1209\n",
            "Val Loss: 0.1127\n",
            "Epoch 47/100, Train Loss: 0.1251\n",
            "Val Loss: 0.1140\n",
            "Epoch 48/100, Train Loss: 0.1195\n",
            "Val Loss: 0.1150\n",
            "Epoch 49/100, Train Loss: 0.1208\n",
            "Val Loss: 0.1147\n",
            "Epoch 50/100, Train Loss: 0.1201\n",
            "Val Loss: 0.1149\n",
            "Epoch 51/100, Train Loss: 0.1196\n",
            "Val Loss: 0.1138\n",
            "Epoch 52/100, Train Loss: 0.1210\n",
            "Val Loss: 0.1134\n",
            "Epoch 53/100, Train Loss: 0.1199\n",
            "Val Loss: 0.1130\n",
            "Epoch 54/100, Train Loss: 0.1203\n",
            "Val Loss: 0.1127\n",
            "Epoch 55/100, Train Loss: 0.1194\n",
            "Val Loss: 0.1128\n",
            "Epoch 56/100, Train Loss: 0.1201\n",
            "Val Loss: 0.1131\n",
            "Epoch 57/100, Train Loss: 0.1247\n",
            "Val Loss: 0.1138\n",
            "Epoch 58/100, Train Loss: 0.1203\n",
            "Val Loss: 0.1139\n",
            "Epoch 59/100, Train Loss: 0.1208\n",
            "Val Loss: 0.1130\n",
            "Epoch 60/100, Train Loss: 0.1202\n",
            "Val Loss: 0.1129\n",
            "Epoch 61/100, Train Loss: 0.1198\n",
            "Val Loss: 0.1130\n",
            "Epoch 62/100, Train Loss: 0.1185\n",
            "Val Loss: 0.1131\n",
            "Epoch 63/100, Train Loss: 0.1229\n",
            "Val Loss: 0.1132\n",
            "Epoch 64/100, Train Loss: 0.1182\n",
            "Val Loss: 0.1133\n",
            "Epoch 65/100, Train Loss: 0.1183\n",
            "Val Loss: 0.1136\n",
            "Epoch 66/100, Train Loss: 0.1216\n",
            "Val Loss: 0.1136\n",
            "Epoch 67/100, Train Loss: 0.1219\n",
            "Val Loss: 0.1133\n",
            "Epoch 68/100, Train Loss: 0.1204\n",
            "Val Loss: 0.1134\n",
            "Epoch 69/100, Train Loss: 0.1206\n",
            "Val Loss: 0.1135\n",
            "Epoch 70/100, Train Loss: 0.1221\n",
            "Val Loss: 0.1134\n",
            "Epoch 71/100, Train Loss: 0.1206\n",
            "Val Loss: 0.1138\n",
            "Epoch 72/100, Train Loss: 0.1213\n",
            "Val Loss: 0.1143\n",
            "Epoch 73/100, Train Loss: 0.1213\n",
            "Val Loss: 0.1141\n",
            "Epoch 74/100, Train Loss: 0.1201\n",
            "Val Loss: 0.1143\n",
            "Epoch 75/100, Train Loss: 0.1213\n",
            "Val Loss: 0.1147\n",
            "Epoch 76/100, Train Loss: 0.1219\n",
            "Val Loss: 0.1152\n",
            "Epoch 77/100, Train Loss: 0.1219\n",
            "Val Loss: 0.1156\n",
            "Epoch 78/100, Train Loss: 0.1229\n",
            "Val Loss: 0.1158\n",
            "Epoch 79/100, Train Loss: 0.1193\n",
            "Val Loss: 0.1162\n",
            "Epoch 80/100, Train Loss: 0.1186\n",
            "Val Loss: 0.1161\n",
            "Epoch 81/100, Train Loss: 0.1215\n",
            "Val Loss: 0.1168\n",
            "Epoch 82/100, Train Loss: 0.1216\n",
            "Val Loss: 0.1160\n",
            "Epoch 83/100, Train Loss: 0.1207\n",
            "Val Loss: 0.1152\n",
            "Epoch 84/100, Train Loss: 0.1194\n",
            "Val Loss: 0.1152\n",
            "Epoch 85/100, Train Loss: 0.1197\n",
            "Val Loss: 0.1152\n",
            "Epoch 86/100, Train Loss: 0.1212\n",
            "Val Loss: 0.1151\n",
            "Epoch 87/100, Train Loss: 0.1220\n",
            "Val Loss: 0.1146\n",
            "Epoch 88/100, Train Loss: 0.1211\n",
            "Val Loss: 0.1141\n",
            "Epoch 89/100, Train Loss: 0.1192\n",
            "Val Loss: 0.1138\n",
            "Epoch 90/100, Train Loss: 0.1212\n",
            "Val Loss: 0.1144\n",
            "Epoch 91/100, Train Loss: 0.1218\n",
            "Val Loss: 0.1151\n",
            "Epoch 92/100, Train Loss: 0.1217\n",
            "Val Loss: 0.1153\n",
            "Epoch 93/100, Train Loss: 0.1200\n",
            "Val Loss: 0.1149\n",
            "Epoch 94/100, Train Loss: 0.1195\n",
            "Val Loss: 0.1152\n",
            "Epoch 95/100, Train Loss: 0.1210\n",
            "Val Loss: 0.1154\n",
            "Epoch 96/100, Train Loss: 0.1218\n",
            "Val Loss: 0.1150\n",
            "Epoch 97/100, Train Loss: 0.1205\n",
            "Val Loss: 0.1144\n",
            "Epoch 98/100, Train Loss: 0.1203\n",
            "Val Loss: 0.1144\n",
            "Epoch 99/100, Train Loss: 0.1210\n",
            "Val Loss: 0.1149\n",
            "Epoch 100/100, Train Loss: 0.1197\n",
            "Val Loss: 0.1148\n"
          ]
        },
        {
          "output_type": "display_data",
          "data": {
            "text/plain": [
              "<Figure size 640x480 with 1 Axes>"
            ],
            "image/png": "[encoded data removed]"
          },
          "metadata": {}
        },
        {
          "output_type": "execute_result",
          "data": {
            "text/plain": [
              "MyModel(\n",
              "  (gru1): GRU(1, 32)\n",
              "  (gru2): GRU(32, 16)\n",
              "  (linear): Linear(in_features=16, out_features=1, bias=True)\n",
              ")"
            ]
          },
          "metadata": {},
          "execution_count": 80
        }
      ]
    }
  ]
}