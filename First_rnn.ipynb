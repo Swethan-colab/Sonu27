{
  "nbformat": 4,
  "nbformat_minor": 0,
  "metadata": {
    "colab": {
      "provenance": [],
      "authorship_tag": "ABX9TyOlQjSEXb5QrFFawayRPm7V",
      "include_colab_link": true
    },
    "kernelspec": {
      "name": "python3",
      "display_name": "Python 3"
    },
    "language_info": {
      "name": "python"
    }
  },
  "cells": [
    {
      "cell_type": "markdown",
      "metadata": {
        "id": "view-in-github",
        "colab_type": "text"
      },
      "source": [
        "<a href=\"https://colab.research.google.com/github/Swethan-colab/Sonu27/blob/main/First_rnn.ipynb\" target=\"_parent\"><img src=\"https://colab.research.google.com/assets/colab-badge.svg\" alt=\"Open In Colab\"/></a>"
      ]
    },
    {
      "cell_type": "code",
      "source": [
        "import torch\n",
        "from sklearn.model_selection import train_test_split\n",
        "from torch import nn\n",
        "from torch.utils.data import DataLoader, TensorDataset\n",
        "import torch.optim as optim\n",
        "\n",
        "\n"
      ],
      "metadata": {
        "id": "w7Gd6OyJKmYr"
      },
      "execution_count": 181,
      "outputs": []
    },
    {
      "cell_type": "code",
      "execution_count": 282,
      "metadata": {
        "id": "-PeKLPsQkJrJ",
        "colab": {
          "base_uri": "https://localhost:8080/"
        },
        "outputId": "86d1f274-21a1-47c7-87c1-30534aec6a62"
      },
      "outputs": [
        {
          "output_type": "stream",
          "name": "stdout",
          "text": [
            "torch.Size([100, 1])\n"
          ]
        }
      ],
      "source": [
        "import numpy as np\n",
        "sequence_length = 5\n",
        "# Define the number of data points\n",
        "num_datapoints = 100\n",
        "import torch\n",
        "\n",
        "# Define device (CPU or GPU)\n",
        "device = torch.device(\"cuda\" if torch.cuda.is_available() else \"cpu\")\n",
        "\n",
        "\n",
        "# Create strain tensor\n",
        "strains = torch.linspace(0, 100, 100, device=device).unsqueeze(1)\n",
        "# Unsqueeze adds a new dimension at index 0, making it a 1xN tensor\n",
        "# This is suitable for feeding into a single GRU sequence\n",
        "\n",
        "# Generate random strains (adjustable range)\n",
        "#strains = torch.rand(num_datapoints, sequence_length) * 10  # Strains between 0 and 10\n",
        "\n",
        "# Simulate a linear elastic relationship between strain and stress (stress = constant * strain)\n",
        "youngs_modulus = 73 # You can adjust this constant to control the slope of the relationship\n",
        "stresses = strains * youngs_modulus\n",
        "# Reshape for model input (batch_size, sequence_length, feature_size)\n",
        "#strains = strains.unsqueeze(2)  # Add feature dimension\n",
        "#stresses = stresses.unsqueeze(2)\n",
        "\n",
        "print(stresses.shape)\n",
        "def normalize(data):\n",
        "  \"\"\"\n",
        "  Normalizes data to a range of [0, 1].\n",
        "\n",
        "  Args:\n",
        "      data (torch.Tensor): The data to be normalized.\n",
        "\n",
        "  Returns:\n",
        "      torch.Tensor: The normalized data.\n",
        "  \"\"\"\n",
        "  min_val = torch.min(data)\n",
        "  max_val = torch.max(data)\n",
        "  return (data - min_val) / (max_val - min_val)\n",
        "def z_score(data):\n",
        "  return (data - data.mean()) / data.std()\n"
      ]
    },
    {
      "cell_type": "code",
      "source": [
        "#from sklearn.model_selection import train_test_split\n",
        "\n",
        "# Splitting into training and testing sets (excluding validation for now)\n",
        "X_train_val, X_test_, y_train_val, y_test_ = train_test_split(strains, stresses, test_size=0.1, random_state=42)\n",
        "\n",
        "# Further split training and validation sets (from X_train_val and y_train_val)\n",
        "X_train_, X_val_, y_train_, y_val_ = train_test_split(X_train_val, y_train_val, test_size=0.16, random_state=42)\n",
        "\n",
        "X_train = z_score(X_train_)\n",
        "X_val = z_score(X_val_)\n",
        "X_test = z_score(X_test_)\n",
        "\n",
        "y_train = z_score(y_train_)\n",
        "y_val = z_score(y_val_)\n",
        "y_test = z_score(y_test_)"
      ],
      "metadata": {
        "id": "TQ02DFGzJbrr"
      },
      "execution_count": 284,
      "outputs": []
    },
    {
      "cell_type": "code",
      "source": [
        "#train_size = 0.75\n",
        "#val_size = 0.15\n",
        "#test_size = 1-train_size - val_size\n",
        "#train_set_size = int(strains.shape[1]*train_size)\n",
        "#val_set_size = int(strains.shape[1]*val_size)\n",
        "#test_set_size = strains.shape[1]-int(train_set_size+val_set_size)\n",
        "#X_train = strains [:,:train_set_size ]\n",
        "#X_val = strains [:,train_set_size:(train_set_size+val_set_size)]\n",
        "#X_test = strains [:,(train_set_size+val_set_size):]\n",
        "\n",
        "#y_train = stresses [:,:train_set_size ]\n",
        "#y_val = stresses [:,train_set_size:(train_set_size+val_set_size)]\n",
        "#y_test= stresses [:,(train_set_size+val_set_size):]\n",
        "#print (X_train[0])"
      ],
      "metadata": {
        "id": "TenJfh5cpGZQ"
      },
      "execution_count": 272,
      "outputs": []
    },
    {
      "cell_type": "code",
      "source": [
        "train_dataset = TensorDataset((X_train), (y_train))\n",
        "val_dataset = TensorDataset((X_val), (y_val))\n",
        "test_dataset = TensorDataset((X_test), (y_test))\n",
        "batch_size=32\n",
        "# Create data loaders for each set\n",
        "train_dataloader = DataLoader(train_dataset, batch_size=batch_size, shuffle=True)\n",
        "val_dataloader = DataLoader(val_dataset, batch_size=batch_size, shuffle=False)\n",
        "test_dataloader = DataLoader(test_dataset, batch_size=batch_size, shuffle=False)\n",
        "\n",
        "\n"
      ],
      "metadata": {
        "id": "ZyOiIDu4JhQv"
      },
      "execution_count": 285,
      "outputs": []
    },
    {
      "cell_type": "code",
      "source": [
        "epochs = 100\n",
        "batch_size = 32\n",
        "patience = 5  # Early stopping patience\n",
        "learning_rate = 0.001"
      ],
      "metadata": {
        "id": "oPTWo5t4M28c"
      },
      "execution_count": 286,
      "outputs": []
    },
    {
      "cell_type": "code",
      "source": [
        "\n",
        "def evaluate(model, val_dataloader, criterion):\n",
        "    model.eval()  # Set model to evaluation mode (optional for some layers)\n",
        "    with torch.no_grad():\n",
        "        total_val_loss = 0\n",
        "        for data, target in val_dataloader:\n",
        "            output = model(data)\n",
        "            val_loss = criterion(output, target)\n",
        "            total_val_loss += val_loss.item()\n",
        "    return total_val_loss / len(val_dataloader)\n",
        "\n",
        "\n",
        "# Define the GRU model\n",
        "class MyModel(nn.Module):\n",
        "  def __init__(self):\n",
        "    super(MyModel, self).__init__()\n",
        "    self.gru1 = nn.GRU(input_size=1, hidden_size=32)  # Add activation='tanh'\n",
        "    self.gru2 = nn.GRU(input_size=32, hidden_size=16)\n",
        "    self.activation = nn.ReLU()  # Add activation='tanh'\n",
        "    self.linear = nn.Linear(16, 1)\n",
        "\n",
        "  def forward(self, x):\n",
        "    x, _ = self.gru1(x)\n",
        "    x = self.activation(x)  # Apply activation after GRU1\n",
        "    x, _ = self.gru2(x)\n",
        "    x = self.activation(x)  # Apply activation after GRU2\n",
        "    x = self.linear(x)\n",
        "    return x\n",
        "\n",
        "# Create the model\n",
        "model = MyModel()\n",
        "criterion = nn.MSELoss()\n",
        "\n",
        "# Define optimizer (e.g., Adam)\n",
        "optimizer = optim.Adam(model.parameters())\n",
        "\n",
        "\n",
        "# Function to calculate loss for a given data loader\n",
        "def calculate_loss(data_loader, model, loss_fn):\n",
        "  total_loss = 0\n",
        "  for data, target in data_loader:\n",
        "    predicted_stress = model(data)\n",
        "    loss = loss_fn(predicted_stress, target)\n",
        "    total_loss += loss.item()\n",
        "  return total_loss / len(data_loader)\n",
        "\n"
      ],
      "metadata": {
        "id": "7Y1_ApSZE9s1"
      },
      "execution_count": 287,
      "outputs": []
    },
    {
      "cell_type": "code",
      "source": [
        "import matplotlib.pyplot as plt\n",
        "\n",
        "def evaluate(model, val_dataloader, criterion):\n",
        "    model.eval()  # Set model to evaluation mode (optional for some layers)\n",
        "    with torch.no_grad():\n",
        "        total_val_loss = 0\n",
        "        for data, target in val_dataloader:\n",
        "            output = model(data)\n",
        "            val_loss = criterion(output, target)\n",
        "            total_val_loss += val_loss.item()\n",
        "    return total_val_loss / len(val_dataloader)\n",
        "\n",
        "def train_model(model, train_loader, val_loader, epochs, patience):\n",
        "    optimizer = torch.optim.Adam(model.parameters(), lr=learning_rate)  # Adjust optimizer\n",
        "    criterion = nn.MSELoss()  # Mean Squared Error loss\n",
        "\n",
        "    training_losses = []  # Store training losses for each epoch\n",
        "    validation_losses = []  # Store validation losses for each epoch\n",
        "\n",
        "    best_val_loss = float('inf')\n",
        "    for epoch in range(epochs):\n",
        "        # Train loop\n",
        "        total_train_loss = 0\n",
        "        for data, target in train_loader:\n",
        "            optimizer.zero_grad()  # Reset gradients for each batch\n",
        "\n",
        "            output = model(data)\n",
        "            loss = criterion(output, target)\n",
        "            loss.backward()\n",
        "            optimizer.step()\n",
        "\n",
        "            total_train_loss += loss.item()\n",
        "\n",
        "        # Calculate and print average training loss for the epoch\n",
        "        avg_train_loss = total_train_loss / len(train_loader)\n",
        "        training_losses.append(avg_train_loss)\n",
        "        print(f\"Epoch {epoch+1}/{epochs}, Train Loss: {avg_train_loss:.4f}\")\n",
        "\n",
        "        # Validation\n",
        "        val_loss = evaluate(model, val_dataloader, criterion)\n",
        "        validation_losses.append(val_loss)\n",
        "        print(f\"Val Loss: {val_loss:.4f}\")\n",
        "\n",
        "        # Early stopping (implementation not shown here for brevity)\n",
        "\n",
        "    # Plot training and validation loss (after training)\n",
        "    plt.plot(range(epochs), training_losses, label='Training Loss')\n",
        "    plt.plot(range(epochs), validation_losses, label='Validation Loss')\n",
        "    plt.title('Training and Validation Loss')\n",
        "    plt.xlabel('Epochs')\n",
        "    plt.ylabel('Loss')\n",
        "    plt.legend()\n",
        "    plt.grid(True)\n",
        "    plt.show()\n",
        "\n",
        "    # Load best model weights (implementation not shown here for brevity)\n",
        "    return model"
      ],
      "metadata": {
        "id": "MwfYTZCh0IIq"
      },
      "execution_count": 288,
      "outputs": []
    },
    {
      "cell_type": "code",
      "source": [
        "train_model(model,train_dataloader,val_dataloader,30,5)"
      ],
      "metadata": {
        "id": "Fqgri-y4KPMN",
        "colab": {
          "base_uri": "https://localhost:8080/",
          "height": 1000
        },
        "outputId": "7aa9f4be-e1b3-4585-e857-e3f48e959020"
      },
      "execution_count": 289,
      "outputs": [
        {
          "output_type": "stream",
          "name": "stdout",
          "text": [
            "Epoch 1/30, Train Loss: 1.1048\n",
            "Val Loss: 0.9607\n",
            "Epoch 2/30, Train Loss: 0.9468\n",
            "Val Loss: 0.9548\n",
            "Epoch 3/30, Train Loss: 1.0503\n",
            "Val Loss: 0.9500\n",
            "Epoch 4/30, Train Loss: 0.9619\n",
            "Val Loss: 0.9457\n",
            "Epoch 5/30, Train Loss: 0.9579\n",
            "Val Loss: 0.9413\n",
            "Epoch 6/30, Train Loss: 0.9504\n",
            "Val Loss: 0.9373\n",
            "Epoch 7/30, Train Loss: 1.0336\n",
            "Val Loss: 0.9331\n",
            "Epoch 8/30, Train Loss: 0.9316\n",
            "Val Loss: 0.9288\n",
            "Epoch 9/30, Train Loss: 1.0151\n",
            "Val Loss: 0.9243\n",
            "Epoch 10/30, Train Loss: 0.9895\n",
            "Val Loss: 0.9193\n",
            "Epoch 11/30, Train Loss: 1.0106\n",
            "Val Loss: 0.9139\n",
            "Epoch 12/30, Train Loss: 1.0084\n",
            "Val Loss: 0.9078\n",
            "Epoch 13/30, Train Loss: 0.9504\n",
            "Val Loss: 0.9010\n",
            "Epoch 14/30, Train Loss: 0.8974\n",
            "Val Loss: 0.8933\n",
            "Epoch 15/30, Train Loss: 0.9179\n",
            "Val Loss: 0.8849\n",
            "Epoch 16/30, Train Loss: 0.8604\n",
            "Val Loss: 0.8758\n",
            "Epoch 17/30, Train Loss: 0.8946\n",
            "Val Loss: 0.8654\n",
            "Epoch 18/30, Train Loss: 0.8244\n",
            "Val Loss: 0.8535\n",
            "Epoch 19/30, Train Loss: 0.9021\n",
            "Val Loss: 0.8394\n",
            "Epoch 20/30, Train Loss: 0.9190\n",
            "Val Loss: 0.8228\n",
            "Epoch 21/30, Train Loss: 0.8537\n",
            "Val Loss: 0.8037\n",
            "Epoch 22/30, Train Loss: 0.7730\n",
            "Val Loss: 0.7824\n",
            "Epoch 23/30, Train Loss: 0.7394\n",
            "Val Loss: 0.7577\n",
            "Epoch 24/30, Train Loss: 0.6620\n",
            "Val Loss: 0.7273\n",
            "Epoch 25/30, Train Loss: 0.6944\n",
            "Val Loss: 0.6908\n",
            "Epoch 26/30, Train Loss: 0.5876\n",
            "Val Loss: 0.6515\n",
            "Epoch 27/30, Train Loss: 0.5933\n",
            "Val Loss: 0.6101\n",
            "Epoch 28/30, Train Loss: 0.5845\n",
            "Val Loss: 0.5655\n",
            "Epoch 29/30, Train Loss: 0.4825\n",
            "Val Loss: 0.5204\n",
            "Epoch 30/30, Train Loss: 0.5362\n",
            "Val Loss: 0.4771\n"
          ]
        },
        {
          "output_type": "display_data",
          "data": {
            "text/plain": [
              "<Figure size 640x480 with 1 Axes>"
            ],
            "image/png": "[encoded data removed]"
          },
          "metadata": {}
        },
        {
          "output_type": "execute_result",
          "data": {
            "text/plain": [
              "MyModel(\n",
              "  (gru1): GRU(1, 32)\n",
              "  (gru2): GRU(32, 16)\n",
              "  (activation): ReLU()\n",
              "  (linear): Linear(in_features=16, out_features=1, bias=True)\n",
              ")"
            ]
          },
          "metadata": {},
          "execution_count": 289
        }
      ]
    },
    {
      "cell_type": "code",
      "source": [
        "test_loss = evaluate(model,test_dataloader,criterion)\n",
        "print(f\"Test Loss: {test_loss:.4f}\")"
      ],
      "metadata": {
        "id": "Q7MwFiBhAtvS",
        "outputId": "bb507bbc-7914-4f77-e6fb-a07a65a25a48",
        "colab": {
          "base_uri": "https://localhost:8080/"
        }
      },
      "execution_count": 290,
      "outputs": [
        {
          "output_type": "stream",
          "name": "stdout",
          "text": [
            "Test Loss: 0.4744\n"
          ]
        }
      ]
    }
  ]
}