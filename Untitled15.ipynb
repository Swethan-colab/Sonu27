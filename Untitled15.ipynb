{
  "nbformat": 4,
  "nbformat_minor": 0,
  "metadata": {
    "colab": {
      "provenance": []
    },
    "kernelspec": {
      "name": "python3",
      "display_name": "Python 3"
    },
    "language_info": {
      "name": "python"
    }
  },
  "cells": [
    {
      "cell_type": "code",
      "execution_count": null,
      "metadata": {
        "id": "65hyk8fVY2Rq"
      },
      "outputs": [],
      "source": [
        "import torch\n",
        "from torch import nn\n",
        "from torch.utils.data import DataLoader, TensorDataset\n",
        "from torchvision import transforms"
      ]
    },
    {
      "cell_type": "code",
      "source": [
        "# Replace 'path/to/my/file.h5' with the actual path to your .h5 file in your Drive\n",
        "data_path = '/content/drive/MyDrive/Colab Notebooks/Train/data100_51voxels.h5'\n",
        "import h5py\n",
        "\n",
        "with h5py.File(data_path, 'r') as f:  # Open the file in read-only mode\n",
        "    # Assuming your RVE data is stored in a dataset named 'rve_data' within the file\n",
        "    QoIPCAH = f['QoIPCAH'][:]  # Load the data as a NumPy array\n",
        "    X = f['X'][:]\n",
        "\n",
        "# Check the data shape to ensure it's 3D (channels, width, height, depth)\n",
        "print(X.shape,QoIPCAH.shape\n",
        " )"
      ],
      "metadata": {
        "colab": {
          "base_uri": "https://localhost:8080/"
        },
        "id": "1QTSrKX4ZLef",
        "outputId": "2889b5bc-bf05-4fa8-d6d2-ef50be8f4af4"
      },
      "execution_count": null,
      "outputs": [
        {
          "output_type": "stream",
          "name": "stdout",
          "text": [
            "(100, 1, 51, 51, 51) (100, 6)\n"
          ]
        }
      ]
    },
    {
      "cell_type": "code",
      "source": [
        "transform = transforms.Compose([\n",
        "    transforms.ToTensor(),  # Convert to tensors\n",
        "    transforms.Normalize(mean=[0.5], std=[0.5])  # Normalize between -1 and 1\n",
        "])"
      ],
      "metadata": {
        "id": "bh1wDXXdZbr2"
      },
      "execution_count": null,
      "outputs": []
    },
    {
      "cell_type": "code",
      "source": [
        "X_train = torch.from_numpy(X).float()# Replace with your dataset class\n",
        "\n",
        "\n",
        "train_dataloader = DataLoader(X_train, batch_size=10, shuffle=True)  # Adjust batch size\n"
      ],
      "metadata": {
        "id": "vMcDRcHfZnD1"
      },
      "execution_count": null,
      "outputs": []
    },
    {
      "cell_type": "code",
      "source": [
        "class SimpleFeatureExtractor(nn.Module):\n",
        "    def __init__(self):\n",
        "        super(SimpleFeatureExtractor, self).__init__()\n",
        "        # Define convolutional layers\n",
        "        self.conv1 = nn.Conv3d(in_channels=1,  # Assuming grayscale images\n",
        "                                 out_channels=16,  # Number of filters\n",
        "                                 kernel_size=3,  # Smaller kernel size\n",
        "                                 padding=1)  # Pad to maintain image size\n",
        "        self.relu1 = nn.ReLU()  # Activation function\n",
        "        self.pool1 = nn.MaxPool3d(kernel_size=2, stride=2)  # Downsample\n",
        "\n",
        "        # Fully connected layer\n",
        "        self.fc1 = nn.Linear(in_features=self.calculate_feature_size(), out_features=128)  # Adjust output features as needed\n",
        "\n",
        "    def calculate_feature_size(self):\n",
        "        # Calculate the size of the feature maps after pooling\n",
        "        temp_input = torch.randn(1, 1, *self.conv1.kernel_size)  # Dummy input\n",
        "        output_size = self.conv1(temp_input).shape\n",
        "        return output_size[1] * output_size[2] * output_size[3]  # Flatten size\n",
        "\n",
        "    def forward(self, x):\n",
        "        # Pass RVE images through the CNN\n",
        "        x = self.conv1(x)\n",
        "        x = self.relu1(x)\n",
        "        x = self.pool1(x)\n",
        "\n",
        "        # Flatten the feature maps\n",
        "        features = x.view(x.size(0), -1)\n",
        "\n",
        "        # Fully connected layer\n",
        "        features = self.fc1(features)\n",
        "\n",
        "        return features\n",
        "\n",
        "# Example usage\n",
        "model = SimpleFeatureExtractor()\n",
        "device = torch.device('cuda' if torch.cuda.is_available() else 'cpu')\n",
        "\n",
        "model.to(device)\n"
      ],
      "metadata": {
        "colab": {
          "base_uri": "https://localhost:8080/"
        },
        "id": "eeNW7NR0adu2",
        "outputId": "b8069d28-61fc-4ad9-9025-ad54d9041d75"
      },
      "execution_count": null,
      "outputs": [
        {
          "output_type": "execute_result",
          "data": {
            "text/plain": [
              "SimpleFeatureExtractor(\n",
              "  (conv1): Conv3d(1, 16, kernel_size=(3, 3, 3), stride=(1, 1, 1), padding=(1, 1, 1))\n",
              "  (relu1): ReLU()\n",
              "  (pool1): MaxPool3d(kernel_size=2, stride=2, padding=0, dilation=1, ceil_mode=False)\n",
              "  (fc1): Linear(in_features=144, out_features=128, bias=True)\n",
              ")"
            ]
          },
          "metadata": {},
          "execution_count": 54
        }
      ]
    },
    {
      "cell_type": "code",
      "source": [
        "from torchvision.utils import make_grid\n",
        "import matplotlib.pyplot as plt\n",
        "\n",
        "import torch.nn.functional as F  # Import functional for normalization\n",
        "\n",
        "def visualize_feature_maps(feature_maps, nrow=8):\n",
        "\n",
        "  # Normalize feature maps for better visualization\n",
        "  feature_maps = feature_maps.detach().cpu()\n",
        "  feature_maps = F.normalize(feature_maps, dim=1)\n",
        "\n",
        "  # Ensure nrow is compatible with the number of channels\n",
        "  if feature_maps.size(1) > nrow:\n",
        "      print(f\"Warning: Number of channels ({feature_maps.size(1)}) exceeds nrow ({16}). Consider adjusting nrow or selecting a subset of channels.\")\n",
        "\n",
        "  # Create a grid of visualizations\n",
        "  grid = make_grid(feature_maps, nrow=nrow)\n",
        "\n",
        "  # Display the grid using matplotlib\n",
        "  plt.imshow(grid.permute(1, 2, 0))\n",
        "  plt.axis('off')\n",
        "  plt.show()"
      ],
      "metadata": {
        "id": "7a1uuJx4dvbr"
      },
      "execution_count": null,
      "outputs": []
    },
    {
      "cell_type": "code",
      "source": [
        "feature_maps = model.conv1(X_train)\n",
        "print(f\"Shape of extracted features: {feature_maps.shape}\")"
      ],
      "metadata": {
        "colab": {
          "base_uri": "https://localhost:8080/"
        },
        "id": "tboSRzfjy0Bq",
        "outputId": "ce8949f8-a55f-436c-8b78-b0dfd803a233"
      },
      "execution_count": null,
      "outputs": [
        {
          "output_type": "stream",
          "name": "stdout",
          "text": [
            "Shape of extracted features: torch.Size([100, 16, 51, 51, 51])\n"
          ]
        }
      ]
    },
    {
      "cell_type": "code",
      "source": [
        "import matplotlib.pyplot as plt\n",
        "\n",
        "# Select a specific sample from the batch\n",
        "feature_map_sample = feature_maps[25]\n",
        "\n",
        "# Choose a feature channel to visualize\n",
        "feature_map_to_viz = feature_map_sample[5]  # Access the 6th channel\n",
        "\n",
        "# Select a specific slice\n",
        "slice_index = feature_map_to_viz.shape[0] // 2  # Get the middle index\n",
        "depth_slice = feature_map_to_viz[slice_index].detach()  # Detach before conversion\n",
        "\n",
        "plt.imshow(depth_slice, cmap=\"gray\")\n",
        "plt.colorbar()\n",
        "plt.title(\"Feature Map Visualization (Depth Slice)\")\n",
        "plt.show()"
      ],
      "metadata": {
        "colab": {
          "base_uri": "https://localhost:8080/",
          "height": 472
        },
        "id": "9FrP7h5Izkxs",
        "outputId": "cb60605a-2d42-4d49-d668-661d05a51d98"
      },
      "execution_count": null,
      "outputs": [
        {
          "output_type": "display_data",
          "data": {
            "text/plain": [
              "<Figure size 640x480 with 2 Axes>"
            ],
            "image/png": "[encoded data removed]"
          },
          "metadata": {}
        }
      ]
    },
    {
      "cell_type": "code",
      "source": [
        "\n",
        "\n",
        "feature_maps = model.conv1(X_train)\n",
        "\n",
        "# Detach from computational graph to avoid memory issues\n",
        "feature_maps = feature_maps.detach()\n",
        "\n",
        "\n",
        "visualize_feature_maps(feature_maps,nrow=51)"
      ],
      "metadata": {
        "colab": {
          "base_uri": "https://localhost:8080/",
          "height": 342
        },
        "id": "gKJ6jXm6bSGs",
        "outputId": "54bba002-9dff-4fd9-f9ef-7d0147f07363"
      },
      "execution_count": null,
      "outputs": [
        {
          "output_type": "error",
          "ename": "RuntimeError",
          "evalue": "The size of tensor a (16) must match the size of tensor b (51) at non-singleton dimension 1",
          "traceback": [
            "\u001b[0;31m---------------------------------------------------------------------------\u001b[0m",
            "\u001b[0;31mRuntimeError\u001b[0m                              Traceback (most recent call last)",
            "\u001b[0;32m<ipython-input-55-82adffe6ecf2>\u001b[0m in \u001b[0;36m<cell line: 7>\u001b[0;34m()\u001b[0m\n\u001b[1;32m      5\u001b[0m \u001b[0;34m\u001b[0m\u001b[0m\n\u001b[1;32m      6\u001b[0m \u001b[0;34m\u001b[0m\u001b[0m\n\u001b[0;32m----> 7\u001b[0;31m \u001b[0mvisualize_feature_maps\u001b[0m\u001b[0;34m(\u001b[0m\u001b[0mfeature_maps\u001b[0m\u001b[0;34m,\u001b[0m\u001b[0mnrow\u001b[0m\u001b[0;34m=\u001b[0m\u001b[0;36m51\u001b[0m\u001b[0;34m)\u001b[0m\u001b[0;34m\u001b[0m\u001b[0;34m\u001b[0m\u001b[0m\n\u001b[0m",
            "\u001b[0;32m<ipython-input-49-2e1b4aa476b8>\u001b[0m in \u001b[0;36mvisualize_feature_maps\u001b[0;34m(feature_maps, nrow)\u001b[0m\n\u001b[1;32m     15\u001b[0m \u001b[0;34m\u001b[0m\u001b[0m\n\u001b[1;32m     16\u001b[0m   \u001b[0;31m# Create a grid of visualizations\u001b[0m\u001b[0;34m\u001b[0m\u001b[0;34m\u001b[0m\u001b[0m\n\u001b[0;32m---> 17\u001b[0;31m   \u001b[0mgrid\u001b[0m \u001b[0;34m=\u001b[0m \u001b[0mmake_grid\u001b[0m\u001b[0;34m(\u001b[0m\u001b[0mfeature_maps\u001b[0m\u001b[0;34m,\u001b[0m \u001b[0mnrow\u001b[0m\u001b[0;34m=\u001b[0m\u001b[0mnrow\u001b[0m\u001b[0;34m)\u001b[0m\u001b[0;34m\u001b[0m\u001b[0;34m\u001b[0m\u001b[0m\n\u001b[0m\u001b[1;32m     18\u001b[0m \u001b[0;34m\u001b[0m\u001b[0m\n\u001b[1;32m     19\u001b[0m   \u001b[0;31m# Display the grid using matplotlib\u001b[0m\u001b[0;34m\u001b[0m\u001b[0;34m\u001b[0m\u001b[0m\n",
            "\u001b[0;32m/usr/local/lib/python3.10/dist-packages/torch/utils/_contextlib.py\u001b[0m in \u001b[0;36mdecorate_context\u001b[0;34m(*args, **kwargs)\u001b[0m\n\u001b[1;32m    113\u001b[0m     \u001b[0;32mdef\u001b[0m \u001b[0mdecorate_context\u001b[0m\u001b[0;34m(\u001b[0m\u001b[0;34m*\u001b[0m\u001b[0margs\u001b[0m\u001b[0;34m,\u001b[0m \u001b[0;34m**\u001b[0m\u001b[0mkwargs\u001b[0m\u001b[0;34m)\u001b[0m\u001b[0;34m:\u001b[0m\u001b[0;34m\u001b[0m\u001b[0;34m\u001b[0m\u001b[0m\n\u001b[1;32m    114\u001b[0m         \u001b[0;32mwith\u001b[0m \u001b[0mctx_factory\u001b[0m\u001b[0;34m(\u001b[0m\u001b[0;34m)\u001b[0m\u001b[0;34m:\u001b[0m\u001b[0;34m\u001b[0m\u001b[0;34m\u001b[0m\u001b[0m\n\u001b[0;32m--> 115\u001b[0;31m             \u001b[0;32mreturn\u001b[0m \u001b[0mfunc\u001b[0m\u001b[0;34m(\u001b[0m\u001b[0;34m*\u001b[0m\u001b[0margs\u001b[0m\u001b[0;34m,\u001b[0m \u001b[0;34m**\u001b[0m\u001b[0mkwargs\u001b[0m\u001b[0;34m)\u001b[0m\u001b[0;34m\u001b[0m\u001b[0;34m\u001b[0m\u001b[0m\n\u001b[0m\u001b[1;32m    116\u001b[0m \u001b[0;34m\u001b[0m\u001b[0m\n\u001b[1;32m    117\u001b[0m     \u001b[0;32mreturn\u001b[0m \u001b[0mdecorate_context\u001b[0m\u001b[0;34m\u001b[0m\u001b[0;34m\u001b[0m\u001b[0m\n",
            "\u001b[0;32m/usr/local/lib/python3.10/dist-packages/torchvision/utils.py\u001b[0m in \u001b[0;36mmake_grid\u001b[0;34m(tensor, nrow, padding, normalize, value_range, scale_each, pad_value)\u001b[0m\n\u001b[1;32m    119\u001b[0m             grid.narrow(1, y * height + padding, height - padding).narrow(  # type: ignore[attr-defined]\n\u001b[1;32m    120\u001b[0m                 \u001b[0;36m2\u001b[0m\u001b[0;34m,\u001b[0m \u001b[0mx\u001b[0m \u001b[0;34m*\u001b[0m \u001b[0mwidth\u001b[0m \u001b[0;34m+\u001b[0m \u001b[0mpadding\u001b[0m\u001b[0;34m,\u001b[0m \u001b[0mwidth\u001b[0m \u001b[0;34m-\u001b[0m \u001b[0mpadding\u001b[0m\u001b[0;34m\u001b[0m\u001b[0;34m\u001b[0m\u001b[0m\n\u001b[0;32m--> 121\u001b[0;31m             ).copy_(tensor[k])\n\u001b[0m\u001b[1;32m    122\u001b[0m             \u001b[0mk\u001b[0m \u001b[0;34m=\u001b[0m \u001b[0mk\u001b[0m \u001b[0;34m+\u001b[0m \u001b[0;36m1\u001b[0m\u001b[0;34m\u001b[0m\u001b[0;34m\u001b[0m\u001b[0m\n\u001b[1;32m    123\u001b[0m     \u001b[0;32mreturn\u001b[0m \u001b[0mgrid\u001b[0m\u001b[0;34m\u001b[0m\u001b[0;34m\u001b[0m\u001b[0m\n",
            "\u001b[0;31mRuntimeError\u001b[0m: The size of tensor a (16) must match the size of tensor b (51) at non-singleton dimension 1"
          ]
        }
      ]
    }
  ]
}